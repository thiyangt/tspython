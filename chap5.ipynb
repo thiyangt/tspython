{
  "cells": [
    {
      "cell_type": "markdown",
      "metadata": {},
      "source": [
        "# Time Series Features\n"
      ],
      "id": "3cf2551c"
    },
    {
      "cell_type": "code",
      "metadata": {},
      "source": [
        "import numpy as np\n",
        "import pandas as pd\n",
        "import tsfeatures\n",
        "import rpy2\n",
        "#pip install tsfeatures\n",
        "from tsfeatures import tsfeatures\n",
        "from tsfeatures.tsfeatures_r import tsfeatures_r\n",
        "from tsfeatures import tsfeatures"
      ],
      "id": "22a9f2c1",
      "execution_count": null,
      "outputs": []
    }
  ],
  "metadata": {
    "kernelspec": {
      "name": "python3",
      "language": "python",
      "display_name": "Python 3 (ipykernel)"
    }
  },
  "nbformat": 4,
  "nbformat_minor": 5
}